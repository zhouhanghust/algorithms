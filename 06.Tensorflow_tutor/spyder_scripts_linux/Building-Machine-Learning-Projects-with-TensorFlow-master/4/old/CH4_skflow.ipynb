{
 "cells": [
  {
   "cell_type": "code",
   "execution_count": null,
   "metadata": {
    "collapsed": true
   },
   "outputs": [],
   "source": [
    "import tensorflow.contrib.learn as skflow\n",
    "from sklearn import datasets, metrics, preprocessing\n",
    "import numpy as np\n",
    "import pandas as pd\n",
    "\n",
    "df = pd.read_csv(\"data/CHD.csv\", header=0)\n",
    "print df.describe()\n",
    "\n",
    "def my_model(X, y):\n",
    "    return skflow.models.logistic_regression(X, y)\n",
    "\n",
    "a = preprocessing.StandardScaler()\n",
    "\n",
    "X =a.fit_transform(df['age'].astype(float))\n",
    "\n",
    "print a.get_params()\n",
    "classifier = skflow.TensorFlowEstimator(model_fn=my_model, n_classes=1)\n",
    "classifier.fit(X, df['chd'].astype(float), logdir='/tmp/logistic')\n",
    "print(classifier.get_tensor_value('logistic_regression/bias:0'))\n",
    "print(classifier.get_tensor_value('logistic_regression/weight:0'))\n",
    "score = metrics.accuracy_score(df['chd'].astype(float), classifier.predict(X))\n",
    "print(\"Accuracy: %f\" % score)"
   ]
  }
 ],
 "metadata": {
  "kernelspec": {
   "display_name": "Python 2",
   "language": "python",
   "name": "python2"
  },
  "language_info": {
   "codemirror_mode": {
    "name": "ipython",
    "version": 2
   },
   "file_extension": ".py",
   "mimetype": "text/x-python",
   "name": "python",
   "nbconvert_exporter": "python",
   "pygments_lexer": "ipython2",
   "version": "2.7.11+"
  }
 },
 "nbformat": 4,
 "nbformat_minor": 0
}
