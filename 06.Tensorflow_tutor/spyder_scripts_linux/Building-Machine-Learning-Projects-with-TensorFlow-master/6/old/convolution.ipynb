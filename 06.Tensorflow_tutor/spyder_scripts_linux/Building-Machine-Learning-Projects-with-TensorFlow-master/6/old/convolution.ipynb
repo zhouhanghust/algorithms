{
 "cells": [
  {
   "cell_type": "code",
   "execution_count": 98,
   "metadata": {
    "collapsed": false
   },
   "outputs": [
    {
     "name": "stdout",
     "output_type": "stream",
     "text": [
      "267.0\n",
      "\n"
     ]
    }
   ],
   "source": [
    "import tensorflow as tf\n",
    "\n",
    "#Generate the filename queue, and read the gif files contents\n",
    "filename_queue = tf.train.string_input_producer(tf.train.match_filenames_once(\"data/test.gif\"))\n",
    "reader = tf.WholeFileReader()\n",
    "key, value = reader.read(filename_queue)\n",
    "image=tf.image.decode_gif(value)\n",
    "\n",
    "#Define the kernel parameters\n",
    "kernel=tf.constant(\n",
    "        [\n",
    "         [[[-1.]],[[-1.]],[[-1.]]],\n",
    "         [[[-1.]],[[8.]],[[-1.]]],\n",
    "         [[[-1.]],[[-1.]],[[-1.]]]\n",
    "         ]            \n",
    "    )\n",
    "\n",
    "#Define the train coordinator\n",
    "coord = tf.train.Coordinator()\n",
    "\n",
    "with tf.Session() as sess:\n",
    "    tf.initialize_all_variables().run()\n",
    "    threads = tf.train.start_queue_runners(coord=coord)\n",
    "    #Get first image\n",
    "    image_tensor = tf.image.rgb_to_grayscale(sess.run([image])[0])\n",
    "    #apply convolution, preserving the image size\n",
    "    imagen_convoluted_tensor=tf.nn.conv2d(tf.cast(image_tensor, tf.float32),kernel,[1,1,1,1],\"SAME\")\n",
    "    #Prepare to save the convolution option\n",
    "    file=open (\"blur2.jpeg\", \"wb+\")\n",
    "    #Cast to uint8 (0..255), previous scalation, because the convolution could alter the scale of the final image\n",
    "    out=tf.image.encode_jpeg(tf.reshape(tf.cast(imagen_convoluted_tensor/tf.reduce_max(imagen_convoluted_tensor)*255.,tf.uint8), tf.shape(imagen_convoluted_tensor.eval()[0]).eval()))\n",
    "    file.close()\n",
    "    coord.request_stop()\n",
    "coord.join(threads)"
   ]
  }
 ],
 "metadata": {
  "kernelspec": {
   "display_name": "Python 2",
   "language": "python",
   "name": "python2"
  },
  "language_info": {
   "codemirror_mode": {
    "name": "ipython",
    "version": 2
   },
   "file_extension": ".py",
   "mimetype": "text/x-python",
   "name": "python",
   "nbconvert_exporter": "python",
   "pygments_lexer": "ipython2",
   "version": "2.7.11+"
  }
 },
 "nbformat": 4,
 "nbformat_minor": 0
}
